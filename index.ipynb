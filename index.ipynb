{
 "cells": [
  {
   "cell_type": "markdown",
   "metadata": {},
   "source": [
    "# Title of Project - For NOAA RESTORE\n",
    "\n",
    "Summary of the work described in the notebok, and how it fits into the NOAA RESTORE project.\n",
    "\n",
    "Team:\n",
    "- names\n",
    "- affiliations\n",
    "\n",
    "Original notebook by Lisa L. Lowe"
   ]
  },
  {
   "cell_type": "code",
   "execution_count": null,
   "metadata": {
    "tags": []
   },
   "outputs": [],
   "source": [
    "# load libraries, suppress warnings\n",
    "suppressPackageStartupMessages({\n",
    "library(ggplot2)\n",
    "library(leaflet)\n",
    "library(dplyr)\n",
    "library(lubridate)\n",
    "})"
   ]
  },
  {
   "cell_type": "markdown",
   "metadata": {},
   "source": [
    "## Station Data\n",
    "\n",
    "Read station coordinates\n",
    "\n",
    "Upload a small CSV file that contains, at minimum, \n",
    "- `Station`\n",
    "- `Lat`\n",
    "- `Lon`\n",
    "\n",
    "Or just use ours."
   ]
  },
  {
   "cell_type": "code",
   "execution_count": null,
   "metadata": {
    "tags": []
   },
   "outputs": [],
   "source": [
    "# Read a CSV file that has 'Station', 'Lat', 'Lon'\n",
    "#load station locations\n",
    "df <- read.csv(\"stations/mb_stations.csv\")"
   ]
  },
  {
   "cell_type": "markdown",
   "metadata": {},
   "source": [
    "## Map of our Study Area\n",
    "Define the bounding box for your study area"
   ]
  },
  {
   "cell_type": "code",
   "execution_count": null,
   "metadata": {
    "tags": []
   },
   "outputs": [],
   "source": [
    "## Define bounding box\n",
    "latmin = 30.10\n",
    "latmax = 30.96\n",
    "lonmin = -88.75\n",
    "lonmax = -87.4"
   ]
  },
  {
   "cell_type": "code",
   "execution_count": null,
   "metadata": {
    "tags": []
   },
   "outputs": [],
   "source": [
    "# Mobile Bay\n",
    "leaflet(df) %>%\n",
    "      addTiles() %>%\n",
    "      setView(lng = -87.98733, lat = 30.50355, zoom = 9) %>%\n",
    "      addRectangles(\n",
    "        lng1=lonmin, lat1=latmin,\n",
    "        lng2=lonmax, lat2=latmax,\n",
    "        fillColor = \"transparent\") %>%\n",
    "        addCircles(lng = ~Lon, lat = ~Lat, weight = 5,\n",
    "                radius = 500, popup = ~Station)\n"
   ]
  },
  {
   "cell_type": "markdown",
   "metadata": {},
   "source": [
    "## Download and plot station data \n",
    "\n",
    "Later, we'll *download* these from databases, but for the demo, we put a small, sample demo file in GitHub.\n",
    "\n",
    "(For the bigger analysis, we avoid putting data in GitHub...too big and not what git is meant for.)"
   ]
  },
  {
   "cell_type": "code",
   "execution_count": null,
   "metadata": {
    "tags": []
   },
   "outputs": [],
   "source": [
    "#Read profile data\n",
    "df <- read.csv('data/MB6H.csv')\n",
    "#Clean up the date\n",
    "df$Date <- as.Date(df$Date)\n",
    "#Take a look\n",
    "head(df)"
   ]
  },
  {
   "cell_type": "markdown",
   "metadata": {},
   "source": [
    "### The following plots model data of temperature and salinity at sea surface and bottom."
   ]
  },
  {
   "cell_type": "code",
   "execution_count": null,
   "metadata": {
    "tags": []
   },
   "outputs": [],
   "source": [
    "#General plot options\n",
    "options(repr.plot.width=15, repr.plot.height=6)"
   ]
  },
  {
   "cell_type": "code",
   "execution_count": null,
   "metadata": {
    "tags": []
   },
   "outputs": [],
   "source": [
    "plot(df$Date,df$Tbot,type='l',ylab=\"Temperature\",xlab='')\n",
    "lines(df$Date,df$Tsurf,col='darkred')"
   ]
  },
  {
   "cell_type": "code",
   "execution_count": null,
   "metadata": {
    "tags": []
   },
   "outputs": [],
   "source": [
    "plot(df$Date,df$Sbot,type='l',ylab=\"Salinity\",xlab='')\n",
    "lines(df$Date,df$Ssurf,col='darkred')"
   ]
  },
  {
   "cell_type": "markdown",
   "metadata": {},
   "source": [
    "## Project Data Lake on OSN\n",
    "\n",
    "The modeling data is being hosted on Open Storage Network (OSN), through allocation EES210015 from the Advanced Cyberinfrastructure Coordination Ecosystem: Services & Support, which is supported by National Science Foundation grants #2138259, #2138286, #2138307, #2137603, and #2138296.\n",
    "\n",
    "### Download a file\n",
    "Download model data from OSN for station MS3C.\n",
    "\n",
    "The OSN storage is located here:\n",
    "```\n",
    "https://renc.osn.xsede.org/ees210015-bucket01/hydrodynamics/ROMS_TS_csvFiles\n",
    "```\n",
    "And files are named **XXXX.csv**, where **XXXX** is the station id."
   ]
  },
  {
   "cell_type": "code",
   "execution_count": null,
   "metadata": {
    "tags": []
   },
   "outputs": [],
   "source": [
    "url <- \"https://renc.osn.xsede.org/ees210015-bucket01/hydrodynamics/ROMS_TS_csvFiles/MS3C.csv\"\n",
    "download.file(url, \"MS3C.csv\")"
   ]
  },
  {
   "cell_type": "code",
   "execution_count": null,
   "metadata": {
    "tags": []
   },
   "outputs": [],
   "source": [
    "#Read profile data, assign to new dataframe\n",
    "df2 <- read.csv('MS3C.csv')\n",
    "#Clean up the date\n",
    "df2$Date <- as.Date(df2$Date)\n",
    "#Take a look\n",
    "head(df2)"
   ]
  },
  {
   "cell_type": "code",
   "execution_count": null,
   "metadata": {
    "tags": []
   },
   "outputs": [],
   "source": [
    "plot(df$Date,df$Tbot,type='l',ylab=\"Bottom Temperatures\",xlab='')\n",
    "lines(df2$Date,df2$Tbot,col='darkgreen')"
   ]
  },
  {
   "cell_type": "markdown",
   "metadata": {},
   "source": [
    "## Plot the difference in bottom temperature between the two stations"
   ]
  },
  {
   "cell_type": "code",
   "execution_count": null,
   "metadata": {
    "tags": []
   },
   "outputs": [],
   "source": [
    "df_diff = df$Tbot - df2$Tbot"
   ]
  },
  {
   "cell_type": "code",
   "execution_count": null,
   "metadata": {
    "tags": []
   },
   "outputs": [],
   "source": [
    "plot(df$Date,df_diff,type='l',ylab=\"Bottom Temperature, MB6H - MS3C\",xlab='')"
   ]
  },
  {
   "cell_type": "markdown",
   "metadata": {},
   "source": [
    "## Want to check more stations?\n",
    "\n",
    "The station files are on OSN. Use the interactive map to find the name of the station. To download data for station XXXX, use the following url:\n",
    "\n",
    "```\n",
    "https://renc.osn.xsede.org/ees210015-bucket01/hydrodynamics/ROMS_TS_csvFiles/XXXX.csv\n",
    "```"
   ]
  }
 ],
 "metadata": {
  "kernelspec": {
   "display_name": "R",
   "language": "R",
   "name": "ir"
  },
  "language_info": {
   "codemirror_mode": "r",
   "file_extension": ".r",
   "mimetype": "text/x-r-source",
   "name": "R",
   "pygments_lexer": "r",
   "version": "4.2.1"
  }
 },
 "nbformat": 4,
 "nbformat_minor": 4
}
